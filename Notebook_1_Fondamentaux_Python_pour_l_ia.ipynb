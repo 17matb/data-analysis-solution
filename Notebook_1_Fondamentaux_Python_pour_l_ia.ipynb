{
    "cells": [
        {
            "cell_type": "markdown",
            "metadata": {
                "id": "qD7z9hrS0QHi"
            },
            "source": [
                "# Notebook 1 - Fondamentaux Python pour l'IA\n",
                "# Analyse de données météorologiques en temps réel\n",
                "\n",
                "🎯 Objectifs pédagogiques\n",
                "\n",
                "Maîtriser les structures de données Python essentielles\n",
                "Consommer des APIs REST avec requests\n",
                "Manipuler des données JSON et CSV\n",
                "Créer des visualisations basiques\n",
                "Appliquer des statistiques descriptives\n",
                "\n",
                "🌤️ Contexte du projet\n",
                "\n",
                "Vous travaillez pour une startup AgTech qui développe des solutions d'agriculture intelligente. Votre mission : analyser les données météorologiques de plusieurs villes européennes pour optimiser les recommandations de plantation."
            ]
        },
        {
            "cell_type": "markdown",
            "metadata": {
                "id": "InXafSSW05HB"
            },
            "source": [
                "Partie 1 : Connexion aux APIs météo\n",
                "\n",
                "🔧 Installation des bibliothèques\n",
                "\n",
                "\n",
                " À exécuter dans votre terminal ou cellule\n",
                "# pip install requests pandas matplotlib seaborn numpy"
            ]
        },
        {
            "cell_type": "code",
            "execution_count": 36,
            "metadata": {
                "id": "VRX6x9eF08hL"
            },
            "outputs": [
                {
                    "data": {
                        "text/plain": [
                            "True"
                        ]
                    },
                    "execution_count": 36,
                    "metadata": {},
                    "output_type": "execute_result"
                }
            ],
            "source": [
                "#📥 Import et configuration\n",
                "import requests\n",
                "import pandas as pd\n",
                "import numpy as np\n",
                "import matplotlib.pyplot as plt\n",
                "import seaborn as sns\n",
                "from datetime import datetime, timedelta\n",
                "import json\n",
                "from dotenv import load_dotenv\n",
                "import os\n",
                "\n",
                "load_dotenv()"
            ]
        },
        {
            "cell_type": "markdown",
            "metadata": {
                "id": "cclqgdw01aGL"
            },
            "source": [
                "🌍 API OpenWeatherMap (gratuite)\n",
                "\n",
                "Inscription : Créez un compte sur openweathermap.org\n",
                "\n",
                "\n",
                "Clé API : Récupérez votre clé gratuite (40 000 appels/mois)\n",
                "\n"
            ]
        },
        {
            "cell_type": "code",
            "execution_count": 73,
            "metadata": {
                "id": "90O22MX50sjB"
            },
            "outputs": [
                {
                    "name": "stdout",
                    "output_type": "stream",
                    "text": [
                        "status code: 200\n",
                        "{'coord': {'lon': 3.8809, 'lat': 43.6107}, 'weather': [{'id': 800, 'main': 'Clear', 'description': 'ciel dégagé', 'icon': '01d'}], 'base': 'stations', 'main': {'temp': 24.16, 'feels_like': 23.78, 'temp_min': 24.16, 'temp_max': 25.71, 'pressure': 1014, 'humidity': 44, 'sea_level': 1014, 'grnd_level': 1005}, 'visibility': 10000, 'wind': {'speed': 8.23, 'deg': 340}, 'clouds': {'all': 0}, 'dt': 1753697495, 'sys': {'type': 2, 'id': 2038454, 'country': 'FR', 'sunrise': 1753676962, 'sunset': 1753729941}, 'timezone': 7200, 'id': 2992166, 'name': 'Montpellier', 'cod': 200}\n"
                    ]
                }
            ],
            "source": [
                "### 💡 Première requête guidée\n",
                "api_key_owm = os.getenv('API_KEY_OWM')\n",
                "\n",
                "def get_city_coordinates(city: str) -> dict:\n",
                "    '''\n",
                "    Récupère les coordonnées (latitude et longitude) d'une ville donnée en utilisant l'API OpenWeatherMap.\n",
                "\n",
                "    args :\n",
                "        city (str) : nom de la ville à rechercher.\n",
                "\n",
                "    returns :\n",
                "        dict : dictionnaire contenant les informations de la ville dont la latitude ('lat') et la longitude ('lon').\n",
                "        None : si la ville n'est pas trouvée ou en cas d'erreur.\n",
                "    '''\n",
                "    try:\n",
                "        url = 'http://api.openweathermap.org/geo/1.0/direct'\n",
                "        params = {\n",
                "            'q': city,\n",
                "            'appid': api_key_owm,\n",
                "            'limit': 1\n",
                "        }\n",
                "\n",
                "        response = requests.get(url, params=params)\n",
                "\n",
                "        # gérer l'erreur 401\n",
                "        if response.status_code == 401:\n",
                "            print('401 client error: Invalid API key')\n",
                "            return None\n",
                "\n",
                "        data_raw: dict = response.json()[0]\n",
                "        return data_raw\n",
                "    \n",
                "    # gérer le cas où une ville n'est pas valide\n",
                "    except IndexError:\n",
                "        print(f'\\'{city}\\' is not a valid city')\n",
                "    except Exception as e:\n",
                "        print(f'error: {e}')\n",
                "\n",
                "def get_weather_data(city):\n",
                "    \"\"\"\n",
                "    Récupère les données météo actuelles pour une ville\n",
                "\n",
                "    Étapes à compléter :\n",
                "    1. Construire l'URL avec les paramètres\n",
                "    2. Faire l'appel API avec requests.get()\n",
                "    3. Vérifier le status code\n",
                "    4. Retourner les données JSON\n",
                "    \"\"\"\n",
                "    try:\n",
                "        city_data = get_city_coordinates(city)\n",
                "\n",
                "        if city_data == None:\n",
                "            print(f'Error: Couldn\\'t get city data for \\'{city}\\'')\n",
                "            return None\n",
                "\n",
                "        latitude = city_data['lat']\n",
                "        longitude = city_data['lon']\n",
                "\n",
                "        url = 'https://api.openweathermap.org/data/2.5/weather'\n",
                "        params = {\n",
                "            'lat': latitude,\n",
                "            'lon': longitude,\n",
                "            'appid': api_key_owm,\n",
                "            'units': 'metric',\n",
                "            'lang': 'fr'\n",
                "        }\n",
                "\n",
                "        response = requests.get(url, params=params)\n",
                "\n",
                "        print(f'status code: {response.status_code}')\n",
                "\n",
                "        return response.json()\n",
                "\n",
                "    except Exception as e:\n",
                "        print(f'error: {e}')\n",
                "\n",
                "weather_in_montpellier = get_weather_data('montpellier')\n",
                "print(weather_in_montpellier)"
            ]
        },
        {
            "cell_type": "code",
            "execution_count": 75,
            "metadata": {
                "id": "Dsb-QIjE0slp"
            },
            "outputs": [
                {
                    "name": "stdout",
                    "output_type": "stream",
                    "text": [
                        "status code: 200\n",
                        "weather in Paris: {'coord': {'lon': 2.32, 'lat': 48.8589}, 'weather': [{'id': 804, 'main': 'Clouds', 'description': 'couvert', 'icon': '04d'}], 'base': 'stations', 'main': {'temp': 19.92, 'feels_like': 19.8, 'temp_min': 19.26, 'temp_max': 20.58, 'pressure': 1020, 'humidity': 70, 'sea_level': 1020, 'grnd_level': 1011}, 'visibility': 10000, 'wind': {'speed': 3.6, 'deg': 330}, 'clouds': {'all': 100}, 'dt': 1753696806, 'sys': {'type': 1, 'id': 6550, 'country': 'FR', 'sunrise': 1753676324, 'sunset': 1753731328}, 'timezone': 7200, 'id': 6545270, 'name': 'Quartier du Palais-Royal', 'cod': 200}\n",
                        "status code: 200\n",
                        "weather in Berlin: {'coord': {'lon': 13.3889, 'lat': 52.517}, 'weather': [{'id': 803, 'main': 'Clouds', 'description': 'nuageux', 'icon': '04d'}], 'base': 'stations', 'main': {'temp': 19.99, 'feels_like': 19.92, 'temp_min': 19.99, 'temp_max': 21.01, 'pressure': 1009, 'humidity': 72, 'sea_level': 1009, 'grnd_level': 1005}, 'visibility': 10000, 'wind': {'speed': 6.69, 'deg': 330}, 'clouds': {'all': 75}, 'dt': 1753697269, 'sys': {'type': 2, 'id': 2039371, 'country': 'DE', 'sunrise': 1753672796, 'sunset': 1753729543}, 'timezone': 7200, 'id': 7576815, 'name': 'Alt-Kölln', 'cod': 200}\n",
                        "status code: 200\n",
                        "weather in Madrid: {'coord': {'lon': -3.7036, 'lat': 40.4167}, 'weather': [{'id': 800, 'main': 'Clear', 'description': 'ciel dégagé', 'icon': '01d'}], 'base': 'stations', 'main': {'temp': 26.09, 'feels_like': 26.09, 'temp_min': 25.12, 'temp_max': 27.75, 'pressure': 1017, 'humidity': 37, 'sea_level': 1017, 'grnd_level': 943}, 'visibility': 10000, 'wind': {'speed': 5.14, 'deg': 40}, 'clouds': {'all': 0}, 'dt': 1753697487, 'sys': {'type': 2, 'id': 2084029, 'country': 'ES', 'sunrise': 1753679304, 'sunset': 1753731239}, 'timezone': 7200, 'id': 3117735, 'name': 'Madrid', 'cod': 200}\n",
                        "status code: 200\n",
                        "weather in Rome: {'coord': {'lon': 12.4829, 'lat': 41.8933}, 'weather': [{'id': 802, 'main': 'Clouds', 'description': 'partiellement nuageux', 'icon': '03d'}], 'base': 'stations', 'main': {'temp': 25.44, 'feels_like': 25.55, 'temp_min': 25.16, 'temp_max': 25.79, 'pressure': 1004, 'humidity': 58, 'sea_level': 1004, 'grnd_level': 996}, 'visibility': 10000, 'wind': {'speed': 6.17, 'deg': 250}, 'clouds': {'all': 40}, 'dt': 1753697552, 'sys': {'type': 2, 'id': 2101850, 'country': 'IT', 'sunrise': 1753675183, 'sunset': 1753727591}, 'timezone': 7200, 'id': 3169070, 'name': 'Rome', 'cod': 200}\n",
                        "status code: 200\n",
                        "weather in Amsterdam: {'coord': {'lon': 4.8936, 'lat': 52.3728}, 'weather': [{'id': 520, 'main': 'Rain', 'description': 'petites averses', 'icon': '09d'}], 'base': 'stations', 'main': {'temp': 18.02, 'feels_like': 17.63, 'temp_min': 17.14, 'temp_max': 20, 'pressure': 1017, 'humidity': 67, 'sea_level': 1017, 'grnd_level': 1017}, 'visibility': 10000, 'wind': {'speed': 7.72, 'deg': 330}, 'rain': {'1h': 0.15}, 'clouds': {'all': 75}, 'dt': 1753697533, 'sys': {'type': 2, 'id': 2012552, 'country': 'NL', 'sunrise': 1753674874, 'sunset': 1753731542}, 'timezone': 7200, 'id': 2759794, 'name': 'Amsterdam', 'cod': 200}\n",
                        "status code: 200\n",
                        "weather in Vienna: {'coord': {'lon': 16.3725, 'lat': 48.2084}, 'weather': [{'id': 801, 'main': 'Clouds', 'description': 'peu nuageux', 'icon': '02d'}], 'base': 'stations', 'main': {'temp': 20.6, 'feels_like': 20.7, 'temp_min': 18.87, 'temp_max': 22.08, 'pressure': 1007, 'humidity': 76, 'sea_level': 1007, 'grnd_level': 981}, 'visibility': 10000, 'wind': {'speed': 8.75, 'deg': 300}, 'clouds': {'all': 20}, 'dt': 1753697320, 'sys': {'type': 2, 'id': 2037452, 'country': 'AT', 'sunrise': 1753673087, 'sunset': 1753727820}, 'timezone': 7200, 'id': 2761369, 'name': 'Vienne', 'cod': 200}\n"
                    ]
                }
            ],
            "source": [
                "# Villes à analyser (agriculture européenne)\n",
                "CITIES = [\"Paris\", \"Berlin\", \"Madrid\", \"Rome\", \"Amsterdam\", \"Vienna\"]\n",
                "\n",
                "for city in CITIES:\n",
                "    weather = get_weather_data(city)\n",
                "    print(f'weather in {city}: {weather}')"
            ]
        },
        {
            "cell_type": "markdown",
            "metadata": {
                "id": "XN6RPmCr2qDp"
            },
            "source": [
                "**Questions de débogage :**\n",
                "- Que faire si l'API retourne une erreur 401 ?\n",
                "- Comment gérer une ville introuvable ?\n",
                "\n",
                "---"
            ]
        },
        {
            "cell_type": "markdown",
            "metadata": {
                "id": "KL0MS3RJ263K"
            },
            "source": [
                "## Partie 2 : API complémentaire - Données historiques\n",
                "\n",
                "### 📊 API Visual Crossing Weather (gratuite)\n",
                "Alternative avec 1000 appels/jour gratuits : [visualcrossing.com](https://www.visualcrossing.com/weather-api)"
            ]
        },
        {
            "cell_type": "code",
            "execution_count": 39,
            "metadata": {
                "id": "6OK5bXQy0srW"
            },
            "outputs": [],
            "source": [
                "# Configuration Visual Crossing\n",
                "VC_API_KEY = \"VOTRE_CLE_VISUAL_CROSSING\"\n",
                "VC_BASE_URL = \"https://weather.visualcrossing.com/VisualCrossingWebServices/rest/services/timeline\"\n",
                "\n",
                "def get_historical_weather(city, start_date, end_date, api_key):\n",
                "    \"\"\"\n",
                "    Récupère les données météo historiques\n",
                "\n",
                "    Défis à résoudre :\n",
                "    1. Construire l'URL avec les dates\n",
                "    2. Gérer la pagination si nécessaire\n",
                "    3. Extraire les données pertinentes du JSON complexe\n",
                "    4. Convertir en DataFrame pandas\n",
                "    \"\"\"\n",
                "\n",
                "    url = f\"{VC_BASE_URL}/{city}/{start_date}/{end_date}\"\n",
                "\n",
                "    params = {\n",
                "        'key': api_key,\n",
                "        'include': 'days',\n",
                "        'elements': 'datetime,temp,humidity,precip,windspeed,pressure'\n",
                "    }\n",
                "\n",
                "    # Votre implémentation ici\n",
                "    # Pensez à la gestion d'erreurs !\n",
                "\n",
                "    pass"
            ]
        },
        {
            "cell_type": "markdown",
            "metadata": {
                "id": "WiSgjF2V3JOv"
            },
            "source": [
                "### 🎯 Mission pratique\n",
                "Récupérez les données des 7 (et non 30) derniers jours pour toutes vos villes et créez un DataFrame consolidé.\n",
                "\n",
                "**Structure attendue :**\n",
                "```\n",
                "| date       | ville     | temperature | humidite | precipitation | vent |\n",
                "|------------|-----------|-------------|----------|---------------|------|\n",
                "| 2024-01-01 | Paris     | 12.5        | 75       | 2.3          | 15   |\n",
                "```\n",
                "\n",
                "---\n"
            ]
        },
        {
            "cell_type": "code",
            "execution_count": 40,
            "metadata": {
                "id": "iR8RHaqM0suN"
            },
            "outputs": [],
            "source": [
                "## Partie 3 : API supplémentaire - Qualité de l'air\n",
                "\n",
                "### 🌬️ API OpenWeatherMap Air Pollution\n",
                "def get_air_quality(lat, lon, api_key):\n",
                "    \"\"\"\n",
                "    Récupère les données de qualité de l'air\n",
                "\n",
                "    URL : http://api.openweathermap.org/data/2.5/air_pollution\n",
                "\n",
                "    Étapes :\n",
                "    1. Utiliser les coordonnées lat/lon des villes\n",
                "    2. Récupérer l'indice AQI et les composants (PM2.5, PM10, O3, etc.)\n",
                "    3. Joindre ces données avec vos données météo\n",
                "    \"\"\"\n",
                "    pass"
            ]
        },
        {
            "cell_type": "code",
            "execution_count": 41,
            "metadata": {
                "id": "V0DOb0363VJU"
            },
            "outputs": [],
            "source": [
                "### 🗺️ Obtenir les coordonnées\n",
                "def get_city_coordinates(city, api_key):\n",
                "    \"\"\"\n",
                "    Utilise l'API Geocoding d'OpenWeatherMap\n",
                "    URL : http://api.openweathermap.org/geo/1.0/direct\n",
                "\n",
                "    Récupérez lat/lon pour chaque ville\n",
                "    \"\"\"\n",
                "    pass"
            ]
        },
        {
            "cell_type": "markdown",
            "metadata": {
                "id": "v02lzUOv3kp6"
            },
            "source": [
                "\n",
                "## Partie 4 : Analyse et visualisation\n",
                "\n",
                "### 📈 Analyses à réaliser\n",
                "\n",
                "1. **Comparaison inter-villes**\n",
                "   - Températures moyennes par ville\n",
                "   - Variabilité climatique (écart-type)\n",
                "   - Corrélations température/humidité\n",
                "\n",
                "2. **Tendances temporelles**\n",
                "   - Évolution sur 30 jours\n",
                "   - Identification des patterns\n",
                "\n",
                "3. **Qualité de l'air vs météo**\n",
                "   - Impact de la pluie sur la pollution\n",
                "   - Corrélations vent/qualité de l'air"
            ]
        },
        {
            "cell_type": "code",
            "execution_count": 42,
            "metadata": {
                "colab": {
                    "base_uri": "https://localhost:8080/",
                    "height": 51
                },
                "id": "IQb6JSIp3VSD",
                "outputId": "542a1e6a-381e-40c4-a65a-c21522e3b42d"
            },
            "outputs": [
                {
                    "data": {
                        "text/plain": [
                            "<Figure size 1500x800 with 0 Axes>"
                        ]
                    },
                    "execution_count": 42,
                    "metadata": {},
                    "output_type": "execute_result"
                },
                {
                    "data": {
                        "text/plain": [
                            "<Figure size 1500x800 with 0 Axes>"
                        ]
                    },
                    "metadata": {},
                    "output_type": "display_data"
                }
            ],
            "source": [
                "### 💡 Visualisations guidées\n",
                "\n",
                "# 1. Heatmap des températures par ville et jour\n",
                "plt.figure(figsize=(15, 8))\n",
                "\n",
                "# Créez un pivot table : villes en colonnes, dates en lignes\n",
                "# Utilisez seaborn.heatmap()\n",
                "\n",
                "# 2. Boxplot comparatif des précipitations\n",
                "# Utilisez seaborn.boxplot()\n",
                "\n",
                "# 3. Scatter plot qualité air vs température\n",
                "# Ajoutez une regression line avec seaborn.regplot()\n",
                "\n"
            ]
        },
        {
            "cell_type": "markdown",
            "metadata": {
                "id": "U3OFGeR437l0"
            },
            "source": [
                "## Partie 5 : API bonus - Données agricoles\n",
                "\n",
                "### 🌱 API AgroMonitoring (gratuite)"
            ]
        },
        {
            "cell_type": "code",
            "execution_count": 43,
            "metadata": {
                "id": "9PZMkaLO3zAK"
            },
            "outputs": [],
            "source": [
                "# API satellite pour l'agriculture\n",
                "AGRO_API_KEY = \"VOTRE_CLE_AGROMONITORING\"\n",
                "\n",
                "def get_soil_data(polygon_coordinates, api_key):\n",
                "    \"\"\"\n",
                "    Récupère des données de sol via satellite\n",
                "    URL : http://api.agromonitoring.com/agro/1.0/\n",
                "\n",
                "    Données disponibles :\n",
                "    - Indices de végétation (NDVI)\n",
                "    - Humidité du sol\n",
                "    - Température de surface\n",
                "    \"\"\"\n",
                "    pass\n"
            ]
        },
        {
            "cell_type": "markdown",
            "metadata": {
                "id": "9U_DNqp24DD6"
            },
            "source": [
                "\n",
                "**Défi avancé :** Créez des recommandations de plantation basées sur :\n",
                "- Données météo des 30 derniers jours\n",
                "- Prévisions à 5 jours\n",
                "- Qualité de l'air\n",
                "- Indices de végétation satellite\n",
                "\n"
            ]
        },
        {
            "cell_type": "markdown",
            "metadata": {
                "id": "W15DybdE4Ksu"
            },
            "source": [
                "## 🏆 Livrables attendus\n",
                "\n",
                "### 📊 Dashboard météo\n",
                "Créez un tableau de bord contenant :\n",
                "1. **Aperçu temps réel** des 6 villes\n",
                "2. **Graphiques de tendances** sur 30 jours\n",
                "3. **Alertes qualité de l'air** (AQI > 100)\n",
                "4. **Recommandations agricoles** par ville"
            ]
        },
        {
            "cell_type": "code",
            "execution_count": 44,
            "metadata": {
                "id": "46lA8m084ULP"
            },
            "outputs": [],
            "source": [
                "### 📱 Format de présentation\n",
                "\n",
                "def generate_weather_report(city_data):\n",
                "    \"\"\"\n",
                "    Génère un rapport automatisé\n",
                "\n",
                "    Format :\n",
                "    - Résumé exécutif (3 lignes)\n",
                "    - Métriques clés (tableaux)\n",
                "    - Graphiques (4 visualisations)\n",
                "    - Recommandations (bullet points)\n",
                "    \"\"\"\n",
                "    pass"
            ]
        },
        {
            "cell_type": "markdown",
            "metadata": {
                "id": "eqxVMuuh4Qsq"
            },
            "source": [
                "---\n",
                "\n",
                "## 🎓 Critères d'évaluation\n",
                "\n",
                "- [ ] **APIs fonctionnelles** : Toutes les connexions API marchent\n",
                "- [ ] **Gestion d'erreurs** : Code robuste avec try/except\n",
                "- [ ] **Qualité des données** : Validation et nettoyage\n",
                "- [ ] **Visualisations** : Graphiques informatifs et esthétiques\n",
                "- [ ] **Insights business** : Recommandations basées sur les données\n",
                "\n",
                "### 🔗 Préparation au Notebook 2\n",
                "Le prochain notebook utilisera une vraie base de données PostgreSQL hébergée pour analyser des données de ventes e-commerce, en croisant avec vos données météo pour des analyses géolocalisées.\n",
                "\n",
                "### 📚 APIs alternatives (si quotas dépassés)\n",
                "- **WeatherAPI** : 1M appels/mois gratuits\n",
                "- **AccuWeather** : 50 appels/jour gratuits  \n",
                "- **Climatiq** : Données climat et carbone\n",
                "- **NASA APIs** : Données satellite gratuites"
            ]
        }
    ],
    "metadata": {
        "colab": {
            "provenance": []
        },
        "kernelspec": {
            "display_name": ".venv",
            "language": "python",
            "name": "python3"
        },
        "language_info": {
            "codemirror_mode": {
                "name": "ipython",
                "version": 3
            },
            "file_extension": ".py",
            "mimetype": "text/x-python",
            "name": "python",
            "nbconvert_exporter": "python",
            "pygments_lexer": "ipython3",
            "version": "3.13.5"
        }
    },
    "nbformat": 4,
    "nbformat_minor": 0
}
