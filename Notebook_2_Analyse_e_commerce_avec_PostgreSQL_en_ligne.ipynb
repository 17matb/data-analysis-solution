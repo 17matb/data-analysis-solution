{
    "cells": [
        {
            "cell_type": "markdown",
            "metadata": {
                "id": "I43NxonzOSDg"
            },
            "source": [
                "# Notebook 2 - SQL avec vraies bases de données\n",
                "## Analyse e-commerce avec PostgreSQL en ligne\n",
                "\n"
            ]
        },
        {
            "cell_type": "markdown",
            "metadata": {
                "id": "JItQV6o4Ojrm"
            },
            "source": [
                "\n",
                "### 🎯 Objectifs pédagogiques\n",
                "- Connecter Python à une vraie base de données PostgreSQL\n",
                "- Écrire des requêtes SQL complexes sur des données réelles\n",
                "- Implémenter des analyses RFM avec SQL\n",
                "- Intégrer SQL et pandas pour des analyses avancées\n",
                "- Gérer les connexions et la sécurité\n",
                "\n",
                "### 🛍️ Contexte du projet\n",
                "Vous analysez les données d'un vrai dataset e-commerce (Brazilian E-Commerce Public Dataset) hébergé sur une base PostgreSQL.\n",
                "\n",
                "Objectif : créer une segmentation clientèle pour optimiser les campagnes marketing.\n"
            ]
        },
        {
            "cell_type": "markdown",
            "metadata": {
                "id": "K79TBMVvOuoj"
            },
            "source": [
                "## Partie 1 : Connexion à la base de données réelle"
            ]
        },
        {
            "cell_type": "markdown",
            "metadata": {
                "id": "mq7n18iwPBPe"
            },
            "source": [
                "### 🔧 Installation et configuration\n",
                "\n",
                "\n",
                "# Installation des dépendances\n",
                "\n",
                "\n",
                "```\n",
                "pip install psycopg2-binary sqlalchemy pandas python-dotenv\n",
                "```\n",
                "\n",
                "\n"
            ]
        },
        {
            "cell_type": "code",
            "execution_count": 58,
            "metadata": {
                "id": "_NuY2FHuOhu3"
            },
            "outputs": [
                {
                    "data": {
                        "text/plain": [
                            "True"
                        ]
                    },
                    "execution_count": 58,
                    "metadata": {},
                    "output_type": "execute_result"
                }
            ],
            "source": [
                "import psycopg2\n",
                "import pandas as pd\n",
                "import numpy as np\n",
                "from sqlalchemy import create_engine, text\n",
                "import matplotlib.pyplot as plt\n",
                "import seaborn as sns\n",
                "from datetime import datetime, timedelta\n",
                "import os\n",
                "from dotenv import load_dotenv\n",
                "\n",
                "load_dotenv()"
            ]
        },
        {
            "cell_type": "markdown",
            "metadata": {
                "id": "QEbORVz5PXMa"
            },
            "source": [
                "### 🌐 Base de données PostgreSQL gratuite (ElephantSQL)\n",
                "\n",
                "**Option 1 : ElephantSQL (20MB gratuit)**\n",
                "1. Créez un compte sur [elephantsql.com](https://www.elephantsql.com/)\n",
                "2. Créez une instance \"Tiny Turtle\" (gratuite)\n",
                "3. Récupérez vos credentials\n",
                "\n",
                "**Option 2 : Supabase (500MB gratuit)**\n",
                "1. Créez un compte sur [supabase.com](https://supabase.com/)\n",
                "2. Créez un nouveau projet\n",
                "3. Récupérez l'URL de connexion PostgreSQL\n",
                "\n",
                "**Mise à jour 29/07**\n",
                "- Utiliser Supabase, pas ElephantSQL\n",
                "- fonction generate_ecommerce_data, ne pas utiliser, importer les données du dataset .csv"
            ]
        },
        {
            "cell_type": "code",
            "execution_count": 4,
            "metadata": {},
            "outputs": [],
            "source": [
                "# Configuration de connexion (à adapter selon votre provider)\n",
                "DATABASE_CONFIG = {\n",
                "    'host': os.getenv('DB_HOST'),\n",
                "    'database': os.getenv('DB_NAME'),\n",
                "    'user': os.getenv('DB_USER'),\n",
                "    'password': os.getenv('DB_PASS'),\n",
                "    'port': os.getenv('DB_PORT')\n",
                "}"
            ]
        },
        {
            "cell_type": "code",
            "execution_count": 39,
            "metadata": {
                "id": "ytLvCF3fQxRJ"
            },
            "outputs": [
                {
                    "name": "stdout",
                    "output_type": "stream",
                    "text": [
                        "('PostgreSQL 17.4 on aarch64-unknown-linux-gnu, compiled by gcc (GCC) 13.2.0, 64-bit',)\n"
                    ]
                },
                {
                    "data": {
                        "text/plain": [
                            "True"
                        ]
                    },
                    "execution_count": 39,
                    "metadata": {},
                    "output_type": "execute_result"
                }
            ],
            "source": [
                "# Création de l'engine SQLAlchemy\n",
                "# from sqlalchemy.engine import URL puis URL.create ?\n",
                "engine = create_engine(\n",
                "    f\"postgresql://{DATABASE_CONFIG['user']}:{DATABASE_CONFIG['password']}@\"\n",
                "    f\"{DATABASE_CONFIG['host']}:{DATABASE_CONFIG['port']}/{DATABASE_CONFIG['database']}\"\n",
                ")\n",
                "\n",
                "# Test de connexion\n",
                "def test_connection():\n",
                "    \"\"\"\n",
                "    Testez votre connexion à la base\n",
                "\n",
                "    Étapes :\n",
                "    1. Utilisez pd.read_sql() pour exécuter \"SELECT version()\"\n",
                "    2. Affichez la version PostgreSQL\n",
                "    3. Gérez les erreurs de connexion\n",
                "    \"\"\"\n",
                "    try:\n",
                "        connection = psycopg2.connect(**DATABASE_CONFIG)\n",
                "        cursor = connection.cursor()\n",
                "\n",
                "        cursor.execute('''\n",
                "            SELECT version();\n",
                "        ''')\n",
                "\n",
                "        print(cursor.fetchone())\n",
                "\n",
                "        connection.commit()\n",
                "        cursor.close()\n",
                "        connection.close()\n",
                "\n",
                "    except Exception as e:\n",
                "        print(f\"Erreur de connexion : {e}\")\n",
                "        return False\n",
                "    return True\n",
                "\n",
                "test_connection()"
            ]
        },
        {
            "cell_type": "markdown",
            "metadata": {
                "id": "uXfOgAxGQ3b5"
            },
            "source": [
                "\n",
                "## Partie 2 : Import du dataset e-commerce\n",
                "\n",
                "### 📊 Dataset Brazilian E-Commerce\n",
                "Nous utilisons le célèbre dataset Olist (100k commandes réelles).\n",
                "\n",
                "**Tables à créer :**\n",
                "1. **customers** : customer_id, customer_city, customer_state\n",
                "2. **orders** : order_id, customer_id, order_status, order_date, order_delivered_date\n",
                "3. **order_items** : order_id, product_id, seller_id, price, freight_value\n",
                "4. **products** : product_id, product_category, product_weight_g\n",
                "5. **sellers** : seller_id, seller_city, seller_state"
            ]
        },
        {
            "cell_type": "code",
            "execution_count": 48,
            "metadata": {},
            "outputs": [
                {
                    "data": {
                        "text/html": [
                            "<div>\n",
                            "<style scoped>\n",
                            "    .dataframe tbody tr th:only-of-type {\n",
                            "        vertical-align: middle;\n",
                            "    }\n",
                            "\n",
                            "    .dataframe tbody tr th {\n",
                            "        vertical-align: top;\n",
                            "    }\n",
                            "\n",
                            "    .dataframe thead th {\n",
                            "        text-align: right;\n",
                            "    }\n",
                            "</style>\n",
                            "<table border=\"1\" class=\"dataframe\">\n",
                            "  <thead>\n",
                            "    <tr style=\"text-align: right;\">\n",
                            "      <th></th>\n",
                            "      <th>seller_id</th>\n",
                            "      <th>seller_zip_code_prefix</th>\n",
                            "      <th>seller_city</th>\n",
                            "      <th>seller_state</th>\n",
                            "    </tr>\n",
                            "  </thead>\n",
                            "  <tbody>\n",
                            "    <tr>\n",
                            "      <th>0</th>\n",
                            "      <td>3442f8959a84dea7ee197c632cb2df15</td>\n",
                            "      <td>13023</td>\n",
                            "      <td>campinas</td>\n",
                            "      <td>SP</td>\n",
                            "    </tr>\n",
                            "    <tr>\n",
                            "      <th>1</th>\n",
                            "      <td>d1b65fc7debc3361ea86b5f14c68d2e2</td>\n",
                            "      <td>13844</td>\n",
                            "      <td>mogi guacu</td>\n",
                            "      <td>SP</td>\n",
                            "    </tr>\n",
                            "    <tr>\n",
                            "      <th>2</th>\n",
                            "      <td>ce3ad9de960102d0677a81f5d0bb7b2d</td>\n",
                            "      <td>20031</td>\n",
                            "      <td>rio de janeiro</td>\n",
                            "      <td>RJ</td>\n",
                            "    </tr>\n",
                            "    <tr>\n",
                            "      <th>3</th>\n",
                            "      <td>c0f3eea2e14555b6faeea3dd58c1b1c3</td>\n",
                            "      <td>4195</td>\n",
                            "      <td>sao paulo</td>\n",
                            "      <td>SP</td>\n",
                            "    </tr>\n",
                            "    <tr>\n",
                            "      <th>4</th>\n",
                            "      <td>51a04a8a6bdcb23deccc82b0b80742cf</td>\n",
                            "      <td>12914</td>\n",
                            "      <td>braganca paulista</td>\n",
                            "      <td>SP</td>\n",
                            "    </tr>\n",
                            "  </tbody>\n",
                            "</table>\n",
                            "</div>"
                        ],
                        "text/plain": [
                            "                          seller_id  seller_zip_code_prefix  \\\n",
                            "0  3442f8959a84dea7ee197c632cb2df15                   13023   \n",
                            "1  d1b65fc7debc3361ea86b5f14c68d2e2                   13844   \n",
                            "2  ce3ad9de960102d0677a81f5d0bb7b2d                   20031   \n",
                            "3  c0f3eea2e14555b6faeea3dd58c1b1c3                    4195   \n",
                            "4  51a04a8a6bdcb23deccc82b0b80742cf                   12914   \n",
                            "\n",
                            "         seller_city seller_state  \n",
                            "0           campinas           SP  \n",
                            "1         mogi guacu           SP  \n",
                            "2     rio de janeiro           RJ  \n",
                            "3          sao paulo           SP  \n",
                            "4  braganca paulista           SP  "
                        ]
                    },
                    "execution_count": 48,
                    "metadata": {},
                    "output_type": "execute_result"
                }
            ],
            "source": [
                "df_geolocation = pd.read_csv('data/olist_geolocation_dataset.csv')\n",
                "df_customers = pd.read_csv('data/olist_customers_dataset.csv')\n",
                "df_orders = pd.read_csv('data/olist_orders_dataset.csv')\n",
                "df_order_items = pd.read_csv('data/olist_order_items_dataset.csv')\n",
                "df_products = pd.read_csv('data/olist_products_dataset.csv')\n",
                "df_sellers = pd.read_csv('data/olist_sellers_dataset.csv')\n",
                "\n",
                "df_sellers.head()"
            ]
        },
        {
            "cell_type": "code",
            "execution_count": 53,
            "metadata": {},
            "outputs": [
                {
                    "name": "stdout",
                    "output_type": "stream",
                    "text": [
                        "values: ['delivered' 'invoiced' 'shipped' 'processing' 'unavailable' 'canceled'\n",
                        " 'created' 'approved']\n",
                        "type: <class 'numpy.ndarray'>\n",
                        "\n",
                        "values: ['delivered', 'invoiced', 'shipped', 'processing', 'unavailable', 'canceled', 'created', 'approved']\n",
                        "type: <class 'list'>\n"
                    ]
                }
            ],
            "source": [
                "order_status_enum_list = df_orders['order_status'].unique()\n",
                "print(f'values: {order_status_enum_list}')\n",
                "print(f'type: {type(order_status_enum_list)}\\n')\n",
                "\n",
                "# on récupère les éléments sous la forme de list et on s'assure de ne pas avoir de nan\n",
                "order_status_enum_list = [i for i in order_status_enum_list if pd.notna(i)]\n",
                "print(f'values: {order_status_enum_list}')\n",
                "print(f'type: {type(order_status_enum_list)}')"
            ]
        },
        {
            "cell_type": "code",
            "execution_count": 54,
            "metadata": {},
            "outputs": [
                {
                    "name": "stdout",
                    "output_type": "stream",
                    "text": [
                        "values: ['perfumaria' 'artes' 'esporte_lazer' 'bebes' 'utilidades_domesticas'\n",
                        " 'instrumentos_musicais' 'cool_stuff' 'moveis_decoracao'\n",
                        " 'eletrodomesticos' 'brinquedos' 'cama_mesa_banho'\n",
                        " 'construcao_ferramentas_seguranca' 'informatica_acessorios'\n",
                        " 'beleza_saude' 'malas_acessorios' 'ferramentas_jardim'\n",
                        " 'moveis_escritorio' 'automotivo' 'eletronicos' 'fashion_calcados'\n",
                        " 'telefonia' 'papelaria' 'fashion_bolsas_e_acessorios' 'pcs'\n",
                        " 'casa_construcao' 'relogios_presentes'\n",
                        " 'construcao_ferramentas_construcao' 'pet_shop' 'eletroportateis'\n",
                        " 'agro_industria_e_comercio' nan 'moveis_sala' 'sinalizacao_e_seguranca'\n",
                        " 'climatizacao' 'consoles_games' 'livros_interesse_geral'\n",
                        " 'construcao_ferramentas_ferramentas' 'fashion_underwear_e_moda_praia'\n",
                        " 'fashion_roupa_masculina'\n",
                        " 'moveis_cozinha_area_de_servico_jantar_e_jardim'\n",
                        " 'industria_comercio_e_negocios' 'telefonia_fixa'\n",
                        " 'construcao_ferramentas_iluminacao' 'livros_tecnicos'\n",
                        " 'eletrodomesticos_2' 'artigos_de_festas' 'bebidas' 'market_place'\n",
                        " 'la_cuisine' 'construcao_ferramentas_jardim' 'fashion_roupa_feminina'\n",
                        " 'casa_conforto' 'audio' 'alimentos_bebidas' 'musica' 'alimentos'\n",
                        " 'tablets_impressao_imagem' 'livros_importados'\n",
                        " 'portateis_casa_forno_e_cafe' 'fashion_esporte' 'artigos_de_natal'\n",
                        " 'fashion_roupa_infanto_juvenil' 'dvds_blu_ray' 'artes_e_artesanato'\n",
                        " 'pc_gamer' 'moveis_quarto' 'cine_foto' 'fraldas_higiene' 'flores'\n",
                        " 'casa_conforto_2' 'portateis_cozinha_e_preparadores_de_alimentos'\n",
                        " 'seguros_e_servicos' 'moveis_colchao_e_estofado' 'cds_dvds_musicais']\n",
                        "type: <class 'numpy.ndarray'>\n",
                        "\n",
                        "values: ['perfumaria', 'artes', 'esporte_lazer', 'bebes', 'utilidades_domesticas', 'instrumentos_musicais', 'cool_stuff', 'moveis_decoracao', 'eletrodomesticos', 'brinquedos', 'cama_mesa_banho', 'construcao_ferramentas_seguranca', 'informatica_acessorios', 'beleza_saude', 'malas_acessorios', 'ferramentas_jardim', 'moveis_escritorio', 'automotivo', 'eletronicos', 'fashion_calcados', 'telefonia', 'papelaria', 'fashion_bolsas_e_acessorios', 'pcs', 'casa_construcao', 'relogios_presentes', 'construcao_ferramentas_construcao', 'pet_shop', 'eletroportateis', 'agro_industria_e_comercio', 'moveis_sala', 'sinalizacao_e_seguranca', 'climatizacao', 'consoles_games', 'livros_interesse_geral', 'construcao_ferramentas_ferramentas', 'fashion_underwear_e_moda_praia', 'fashion_roupa_masculina', 'moveis_cozinha_area_de_servico_jantar_e_jardim', 'industria_comercio_e_negocios', 'telefonia_fixa', 'construcao_ferramentas_iluminacao', 'livros_tecnicos', 'eletrodomesticos_2', 'artigos_de_festas', 'bebidas', 'market_place', 'la_cuisine', 'construcao_ferramentas_jardim', 'fashion_roupa_feminina', 'casa_conforto', 'audio', 'alimentos_bebidas', 'musica', 'alimentos', 'tablets_impressao_imagem', 'livros_importados', 'portateis_casa_forno_e_cafe', 'fashion_esporte', 'artigos_de_natal', 'fashion_roupa_infanto_juvenil', 'dvds_blu_ray', 'artes_e_artesanato', 'pc_gamer', 'moveis_quarto', 'cine_foto', 'fraldas_higiene', 'flores', 'casa_conforto_2', 'portateis_cozinha_e_preparadores_de_alimentos', 'seguros_e_servicos', 'moveis_colchao_e_estofado', 'cds_dvds_musicais']\n",
                        "type: <class 'list'>\n",
                        "\n"
                    ]
                }
            ],
            "source": [
                "product_category_enum_list = df_products['product_category_name'].unique()\n",
                "print(f'values: {product_category_enum_list}')\n",
                "print(f'type: {type(product_category_enum_list)}\\n')\n",
                "\n",
                "product_category_enum_list = [i for i in product_category_enum_list if pd.notna(i)]\n",
                "print(f'values: {product_category_enum_list}')\n",
                "print(f'type: {type(product_category_enum_list)}\\n')"
            ]
        },
        {
            "cell_type": "code",
            "execution_count": 61,
            "metadata": {
                "id": "GqGIXooNSTjp"
            },
            "outputs": [],
            "source": [
                "### 🗃️ Création des tables SQL \n",
                "# Complétez pour les autres tables\n",
                "# N'oubliez pas les contraintes de clés étrangères !\n",
                "\n",
                "def create_tables():\n",
                "    \"\"\"\n",
                "    Créez les tables dans PostgreSQL\n",
                "\n",
                "    Tips :\n",
                "    - Utilisez des SERIAL pour les IDs auto-increment\n",
                "    - Ajoutez des index sur les clés étrangères\n",
                "    - Incluez des contraintes de validation\n",
                "    \"\"\"\n",
                "\n",
                "    create_sellers = '''\n",
                "        CREATE TABLE IF NOT EXISTS sellers (\n",
                "            seller_id VARCHAR(50) PRIMARY KEY,\n",
                "            seller_city VARCHAR(100),\n",
                "            seller_state VARCHAR(2)\n",
                "        )\n",
                "    '''\n",
                "\n",
                "    create_products = f'''\n",
                "        CREATE TYPE product_category_enum as ENUM (\n",
                "            '{\"', '\".join(product_category_enum_list)}'\n",
                "        );\n",
                "\n",
                "        CREATE TABLE IF NOT EXISTS products (\n",
                "            product_id VARCHAR(50) PRIMARY KEY,\n",
                "            product_category product_category_enum,\n",
                "            product_weight_g DECIMAL(8,1)\n",
                "        )\n",
                "    '''\n",
                "\n",
                "    create_customers = \"\"\"\n",
                "    CREATE TABLE IF NOT EXISTS customers (\n",
                "        customer_id VARCHAR(50) PRIMARY KEY,\n",
                "        customer_unique_id VARCHAR(50) UNIQUE,\n",
                "        customer_city VARCHAR(100),\n",
                "        customer_state VARCHAR(2),\n",
                "        customer_zip_code VARCHAR(10),\n",
                "        created_at TIMESTAMP DEFAULT CURRENT_TIMESTAMP\n",
                "    );\n",
                "    \"\"\"\n",
                "\n",
                "    create_orders = f'''\n",
                "        CREATE TYPE order_status_enum AS ENUM (\n",
                "            '{\"', '\".join(order_status_enum_list)}'\n",
                "        );\n",
                "\n",
                "        CREATE TABLE IF NOT EXISTS orders (\n",
                "            order_id VARCHAR(50) PRIMARY KEY,\n",
                "            customer_id VARCHAR(50) references customers(customer_id),\n",
                "            order_status order_status_enum NOT NULL,\n",
                "            order_date TIMESTAMP,\n",
                "            order_delivered_date TIMESTAMP\n",
                "        )\n",
                "    '''\n",
                "    create_order_items = '''\n",
                "        CREATE TABLE IF NOT EXISTS order_items (\n",
                "            order_id VARCHAR(50) references orders(order_id),\n",
                "            product_id VARCHAR(50) references products(product_id),\n",
                "            seller_id VARCHAR(50) references sellers(seller_id),\n",
                "            price DECIMAL(8,2),\n",
                "            freight_value DECIMAL(8,2)\n",
                "        )\n",
                "    '''\n",
                "    \n",
                "    try:\n",
                "        with engine.connect() as conn:\n",
                "            conn.execute(text(create_sellers))\n",
                "            conn.execute(text(create_products))\n",
                "            conn.execute(text(create_customers))\n",
                "            conn.execute(text(create_orders))\n",
                "            conn.execute(text(create_order_items))\n",
                "\n",
                "            conn.commit()\n",
                "    except Exception as e:\n",
                "        print(f'error: {e}')\n",
                "\n",
                "create_tables()"
            ]
        },
        {
            "cell_type": "markdown",
            "metadata": {
                "id": "OBQ_BY-QT4dO"
            },
            "source": [
                "## Partie 3 : Requêtes SQL avancées\n",
                "\n",
                "\n",
                "### 🔍 Analyses SQL à implémenter"
            ]
        },
        {
            "cell_type": "markdown",
            "metadata": {
                "id": "tdl5RNOBUAV2"
            },
            "source": [
                "#### 1. Analyse RFM (Récence, Fréquence, Montant)\n",
                "```sql\n",
                "-- Votre défi : Calculer les métriques RFM pour chaque client\n",
                "WITH customer_metrics AS (\n",
                "    SELECT\n",
                "        c.customer_id,\n",
                "        c.customer_state,\n",
                "        -- Récence : jours depuis dernier achat\n",
                "        -- Fréquence : nombre de commandes\n",
                "        -- Montant : total dépensé\n",
                "        \n",
                "        -- Complétez cette requête CTE\n",
                "        \n",
                "    FROM customers c\n",
                "    JOIN orders o ON c.customer_id = o.customer_id\n",
                "    JOIN order_items oi ON o.order_id = oi.order_id\n",
                "    WHERE o.order_status = 'delivered'\n",
                "    GROUP BY c.customer_id, c.customer_state\n",
                ")\n",
                "\n",
                "-- Créez les segments RFM (Champions, Loyaux, À risque, etc.)\n",
                "SELECT\n",
                "    customer_id,\n",
                "    customer_state,\n",
                "    recency_score,\n",
                "    frequency_score,\n",
                "    monetary_score,\n",
                "    CASE\n",
                "        WHEN recency_score >= 4 AND frequency_score >= 4 THEN 'Champions'\n",
                "        WHEN recency_score >= 3 AND frequency_score >= 3 THEN 'Loyal Customers'\n",
                "        -- Ajoutez les autres segments\n",
                "        ELSE 'Others'\n",
                "    END as customer_segment\n",
                "FROM customer_metrics;\n",
                "```"
            ]
        },
        {
            "cell_type": "code",
            "execution_count": 31,
            "metadata": {
                "id": "TWF9rpZSUMp5"
            },
            "outputs": [],
            "source": [
                "#### 2. Analyse géographique des ventes\n",
                "\n",
                "def geographic_sales_analysis():\n",
                "    \"\"\"\n",
                "    Analysez les performances par état/région\n",
                "\n",
                "    Requêtes à écrire :\n",
                "    1. Top 10 des états par CA\n",
                "    2. Croissance MoM par région\n",
                "    3. Taux de conversion par ville\n",
                "    4. Distance moyenne vendeur-acheteur\n",
                "    \"\"\"\n",
                "\n",
                "    query_top_states = \"\"\"\n",
                "    -- Votre requête SQL ici\n",
                "    -- Utilisez des JOINs et GROUP BY\n",
                "    -- Calculez le CA, nombre de commandes, panier moyen\n",
                "    \"\"\"\n",
                "\n",
                "    return pd.read_sql(query_top_states, engine)"
            ]
        },
        {
            "cell_type": "markdown",
            "metadata": {
                "id": "7OE-UHLKY8-K"
            },
            "source": [
                "#### 3. Analyse temporelle et saisonnalité\n",
                "```sql\n",
                "-- Détectez les patterns saisonniers\n",
                "SELECT\n",
                "    EXTRACT(YEAR FROM order_date) as year,\n",
                "    EXTRACT(MONTH FROM order_date) as month,\n",
                "    EXTRACT(DOW FROM order_date) as day_of_week,\n",
                "    COUNT(*) as order_count,\n",
                "    SUM(price + freight_value) as total_revenue,\n",
                "    AVG(price + freight_value) as avg_order_value\n",
                "FROM orders o\n",
                "JOIN order_items oi ON o.order_id = oi.order_id\n",
                "WHERE order_status = 'delivered'\n",
                "GROUP BY ROLLUP(\n",
                "    EXTRACT(YEAR FROM order_date),\n",
                "    EXTRACT(MONTH FROM order_date),\n",
                "    EXTRACT(DOW FROM order_date)\n",
                ")\n",
                "ORDER BY year, month, day_of_week;\n",
                "```\n",
                "\n",
                "---"
            ]
        },
        {
            "cell_type": "markdown",
            "metadata": {
                "id": "Xq43e3mfZC8d"
            },
            "source": [
                "## Partie 4 : Analyse prédictive avec SQL\n",
                "\n",
                "### 🔮 Modèles simples en SQL"
            ]
        },
        {
            "cell_type": "code",
            "execution_count": 32,
            "metadata": {
                "id": "bY5mfxFoaL2K"
            },
            "outputs": [],
            "source": [
                "#### 1. Prédiction de churn\n",
                "\n",
                "def churn_prediction_sql():\n",
                "    \"\"\"\n",
                "    Identifiez les clients à risque de churn\n",
                "\n",
                "    Indicateurs :\n",
                "    - Pas d'achat depuis X jours\n",
                "    - Baisse de fréquence d'achat\n",
                "    - Diminution du panier moyen\n",
                "    - Changement de comportement géographique\n",
                "    \"\"\"\n",
                "\n",
                "    churn_query = \"\"\"\n",
                "    WITH customer_activity AS (\n",
                "        -- Calculez les métriques d'activité récente\n",
                "        -- Comparez avec l'historique du client\n",
                "        -- Scorez le risque de churn\n",
                "    )\n",
                "\n",
                "    SELECT\n",
                "        customer_id,\n",
                "        days_since_last_order,\n",
                "        order_frequency_trend,\n",
                "        monetary_trend,\n",
                "        churn_risk_score,\n",
                "        CASE\n",
                "            WHEN churn_risk_score > 0.7 THEN 'High Risk'\n",
                "            WHEN churn_risk_score > 0.4 THEN 'Medium Risk'\n",
                "            ELSE 'Low Risk'\n",
                "        END as churn_segment\n",
                "    FROM customer_activity;\n",
                "    \"\"\"\n",
                "\n",
                "    return pd.read_sql(churn_query, engine)\n"
            ]
        },
        {
            "cell_type": "markdown",
            "metadata": {
                "id": "IB2D1PDraVu4"
            },
            "source": [
                "#### 2. Recommandations produits\n",
                "```sql\n",
                "-- Market Basket Analysis simplifié\n",
                "WITH product_pairs AS (\n",
                "    SELECT\n",
                "        oi1.product_id as product_a,\n",
                "        oi2.product_id as product_b,\n",
                "        COUNT(*) as co_purchase_count\n",
                "    FROM order_items oi1\n",
                "    JOIN order_items oi2 ON oi1.order_id = oi2.order_id\n",
                "    WHERE oi1.product_id != oi2.product_id\n",
                "    GROUP BY oi1.product_id, oi2.product_id\n",
                "    HAVING COUNT(*) >= 10  -- Seuil minimum\n",
                ")\n",
                "\n",
                "SELECT\n",
                "    product_a,\n",
                "    product_b,\n",
                "    co_purchase_count,\n",
                "    co_purchase_count::float / total_a.count as confidence\n",
                "FROM product_pairs pp\n",
                "JOIN (\n",
                "    SELECT product_id, COUNT(*) as count\n",
                "    FROM order_items\n",
                "    GROUP BY product_id\n",
                ") total_a ON pp.product_a = total_a.product_id\n",
                "ORDER BY confidence DESC;\n",
                "```\n",
                "\n",
                "---"
            ]
        },
        {
            "cell_type": "markdown",
            "metadata": {
                "id": "dbYkj8ItabH-"
            },
            "source": [
                "## Partie 5 : Intégration avec les APIs météo"
            ]
        },
        {
            "cell_type": "markdown",
            "metadata": {
                "id": "x4CU6SNEfNXb"
            },
            "source": [
                "### 🌤️ Croisement données météo/ventes\n",
                "```python\n",
                "def weather_sales_correlation():\n",
                "    \"\"\"\n",
                "    Correlez vos données météo du Notebook 1 avec les ventes\n",
                "    \n",
                "    Hypothèses à tester :\n",
                "    1. Les ventes de certaines catégories augmentent-elles avec la pluie ?\n",
                "    2. Y a-t-il un impact de la température sur les achats ?\n",
                "    3. Les livraisons sont-elles impactées par la météo ?\n",
                "    \"\"\"\n",
                "    \n",
                "    # Récupérez les données météo historiques pour les villes brésiliennes\n",
                "    weather_query = \"\"\"\n",
                "    SELECT DISTINCT customer_city, customer_state\n",
                "    FROM customers\n",
                "    WHERE customer_state IN ('SP', 'RJ', 'MG', 'RS', 'SC')\n",
                "    ORDER BY customer_city;\n",
                "    \"\"\"\n",
                "    \n",
                "    cities = pd.read_sql(weather_query, engine)\n",
                "    \n",
                "    # Intégrez avec l'API météo\n",
                "    # Analysez les corrélations\n",
                "    \n",
                "    pass\n",
                "```"
            ]
        },
        {
            "cell_type": "markdown",
            "metadata": {
                "id": "XHG9k_5PfZXd"
            },
            "source": [
                "### 📊 Dashboard géo-temporel\n",
                "```python\n",
                "def create_geotemporal_dashboard():\n",
                "    \"\"\"\n",
                "    Créez un dashboard interactif combinant :\n",
                "    - Carte des ventes par région\n",
                "    - Évolution temporelle avec météo\n",
                "    - Segments clients géolocalisés\n",
                "    - Prédictions par zone géographique\n",
                "    \"\"\"\n",
                "    pass\n",
                "```"
            ]
        },
        {
            "cell_type": "markdown",
            "metadata": {
                "id": "EsIuD-IVfnxW"
            },
            "source": [
                "---\n",
                "## 🏆 Livrables finaux\n",
                "\n",
                "### 📈 Rapport d'analyse complet\n",
                "1. **Segmentation RFM (Recency, Frenquency, Monetary) ** : 5-7 segments avec caractéristiques\n",
                "2. **Analyse géographique**  : Performances par région + recommandations\n",
                "3. **Prédictions churn** : Liste des clients à risque + actions\n",
                "4. **Recommandations produits** : Top 10 des associations\n",
                "5. **Impact météo** : Corrélations significatives identifiées\n",
                "\n",
                "### 🚀 Pipeline automatisé\n",
                "```python\n",
                "def automated_analysis_pipeline():\n",
                "    \"\"\"\n",
                "    Pipeline qui :\n",
                "    1. Se connecte à la DB\n",
                "    2. Exécute toutes les analyses\n",
                "    3. Met à jour les segments clients\n",
                "    4. Génère le rapport automatiquement\n",
                "    5. Envoie des alertes si nécessaire\n",
                "    \"\"\"\n",
                "    pass\n",
                "```\n",
                "\n",
                "---"
            ]
        },
        {
            "cell_type": "markdown",
            "metadata": {
                "id": "wynvmdtNftwf"
            },
            "source": [
                "## 🎓 Auto-évaluation\n",
                "\n",
                "- [ ] **Connexion DB** : PostgreSQL fonctionnelle\n",
                "- [ ] **Requêtes complexes** : JOINs, CTEs, fonctions analytiques\n",
                "- [ ] **Gestion des erreurs** : Connexions robustes\n",
                "- [ ] **Performance** : Requêtes optimisées avec index\n",
                "- [ ] **Intégration** : SQL + Python + APIs\n",
                "- [ ] **Insights actionables** : Recommandations business claires\n",
                "\n",
                "### 🔗 Préparation au Notebook 3\n",
                "Le prochain notebook portera sur NoSQL (MongoDB) avec des données de réseaux sociaux et d'IoT, en temps réel.\n",
                "\n",
                "### 💡 Bases de données alternatives\n",
                "- **PlanetScale** : MySQL serverless gratuit\n",
                "- **MongoDB Atlas** : 512MB gratuit\n",
                "- **FaunaDB** : Base multi-modèle gratuite\n",
                "- **Hasura Cloud** : GraphQL + PostgreSQL"
            ]
        }
    ],
    "metadata": {
        "colab": {
            "provenance": []
        },
        "kernelspec": {
            "display_name": ".venv",
            "language": "python",
            "name": "python3"
        },
        "language_info": {
            "codemirror_mode": {
                "name": "ipython",
                "version": 3
            },
            "file_extension": ".py",
            "mimetype": "text/x-python",
            "name": "python",
            "nbconvert_exporter": "python",
            "pygments_lexer": "ipython3",
            "version": "3.13.5"
        }
    },
    "nbformat": 4,
    "nbformat_minor": 0
}
